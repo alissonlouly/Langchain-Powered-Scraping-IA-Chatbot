{
 "cells": [
  {
   "cell_type": "code",
   "execution_count": 1,
   "id": "e8d8c7f8",
   "metadata": {},
   "outputs": [],
   "source": [
    "from langchain.chains import LLMChain\n",
    "from langchain.prompts import PromptTemplate\n",
    "from langchain_community.llms import Ollama\n"
   ]
  },
  {
   "cell_type": "code",
   "execution_count": 11,
   "id": "b06689d4",
   "metadata": {},
   "outputs": [],
   "source": [
    "def build_summarizer_agent():\n",
    "    llm = Ollama(model=\"llama3.2:1b\")  # ou outro modelo, se necessário\n",
    "\n",
    "    prompt = PromptTemplate(\n",
    "        input_variables=[\"question\"],\n",
    "        template=\"\"\"\n",
    "        Dada a pergunta abaixo, identifique **apenas o nome da pessoa, obra ou evento** mencionado. Não forneça mais informações, apenas o nome, sem qualquer outra parte da pergunta ou detalhes adicionais.\n",
    "\n",
    "        Pergunta: {question}\n",
    "\n",
    "        Resumo: \n",
    "        \"\"\"\n",
    "    )\n",
    "\n",
    "    chain = LLMChain(llm=llm, prompt=prompt)\n",
    "    return chain\n"
   ]
  },
  {
   "cell_type": "code",
   "execution_count": 14,
   "id": "b9d62667",
   "metadata": {},
   "outputs": [
    {
     "name": "stdout",
     "output_type": "stream",
     "text": [
      "Consulta resumida: O Pato Magro\n"
     ]
    }
   ],
   "source": [
    "# Criar o summarizer\n",
    "summarizer = build_summarizer_agent()\n",
    "\n",
    "# Testar com uma pergunta\n",
    "question = \"Abaporu\"\n",
    "result = summarizer.run(question)\n",
    "\n",
    "# Mostrar o resultado\n",
    "print(f\"Consulta resumida: {result}\")"
   ]
  },
  {
   "cell_type": "code",
   "execution_count": 15,
   "id": "fb7d0b26",
   "metadata": {},
   "outputs": [
    {
     "data": {
      "text/plain": [
       "'O Pato Magro'"
      ]
     },
     "execution_count": 15,
     "metadata": {},
     "output_type": "execute_result"
    }
   ],
   "source": [
    "result"
   ]
  },
  {
   "cell_type": "code",
   "execution_count": null,
   "id": "faa32972",
   "metadata": {},
   "outputs": [],
   "source": []
  }
 ],
 "metadata": {
  "kernelspec": {
   "display_name": "Python 3 (ipykernel)",
   "language": "python",
   "name": "python3"
  },
  "language_info": {
   "codemirror_mode": {
    "name": "ipython",
    "version": 3
   },
   "file_extension": ".py",
   "mimetype": "text/x-python",
   "name": "python",
   "nbconvert_exporter": "python",
   "pygments_lexer": "ipython3",
   "version": "3.9.13"
  },
  "toc": {
   "base_numbering": 1,
   "nav_menu": {},
   "number_sections": true,
   "sideBar": true,
   "skip_h1_title": false,
   "title_cell": "Table of Contents",
   "title_sidebar": "Contents",
   "toc_cell": false,
   "toc_position": {},
   "toc_section_display": true,
   "toc_window_display": false
  }
 },
 "nbformat": 4,
 "nbformat_minor": 5
}
