{
 "cells": [
  {
   "cell_type": "code",
   "execution_count": 30,
   "id": "963b0715",
   "metadata": {},
   "outputs": [
    {
     "data": {
      "text/plain": [
       "True"
      ]
     },
     "execution_count": 30,
     "metadata": {},
     "output_type": "execute_result"
    }
   ],
   "source": [
    "import requests\n",
    "from bs4 import BeautifulSoup\n",
    "from urllib.parse import quote_plus\n",
    "\n",
    "from langchain.chains import LLMChain\n",
    "from langchain.prompts import PromptTemplate\n",
    "from langchain_community.llms import Ollama\n",
    "\n",
    "import os\n",
    "from dotenv import load_dotenv\n",
    "\n",
    "import os\n",
    "from exa_py import Exa\n",
    "\n",
    "# Carregar as variáveis de ambiente do arquivo .env\n",
    "load_dotenv()"
   ]
  },
  {
   "cell_type": "code",
   "execution_count": 54,
   "id": "80a8a0db",
   "metadata": {},
   "outputs": [],
   "source": [
    "llm = Ollama(model=\"llama3.2:1b\") "
   ]
  },
  {
   "cell_type": "markdown",
   "id": "af0b3839",
   "metadata": {},
   "source": [
    "## Sumariza a pergunta "
   ]
  },
  {
   "cell_type": "code",
   "execution_count": 24,
   "id": "09d5d2a1",
   "metadata": {},
   "outputs": [],
   "source": [
    "def build_summarizer_agent():\n",
    "    llm = Ollama(model=\"llama3.2:1b\")  # ou outro modelo, se necessário\n",
    "\n",
    "    prompt = PromptTemplate(\n",
    "        input_variables=[\"question\"],\n",
    "        template=\"\"\"\n",
    "        Dada a pergunta abaixo, identifique o **principal nome da pessoa, obra ou evento** que é o foco central da questão. Forneça **apenas esse nome**, sem qualquer outra parte da pergunta, detalhes adicionais ou outros nomes relacionados.\n",
    "\n",
    "        Pergunta: {question}\n",
    "\n",
    "        Resposta direta:\n",
    "        \"\"\"\n",
    "    )\n",
    "\n",
    "    chain = LLMChain(llm=llm, prompt=prompt)\n",
    "    return chain\n",
    "\n"
   ]
  },
  {
   "cell_type": "code",
   "execution_count": 32,
   "id": "3ccdcb48",
   "metadata": {},
   "outputs": [
    {
     "name": "stdout",
     "output_type": "stream",
     "text": [
      "Consulta resumida: Chico César\n"
     ]
    }
   ],
   "source": [
    "# Criar o summarizer\n",
    "summarizer = build_summarizer_agent()\n",
    "\n",
    "# Testar com uma pergunta\n",
    "question = \"Me fale do chico césar?\"\n",
    "result_key = summarizer.run(question)\n",
    "\n",
    "# Mostrar o resultado\n",
    "print(f\"Consulta resumida: {result_key}\")"
   ]
  },
  {
   "cell_type": "code",
   "execution_count": null,
   "id": "849dac5c",
   "metadata": {},
   "outputs": [],
   "source": []
  },
  {
   "cell_type": "markdown",
   "id": "e2a61fba",
   "metadata": {},
   "source": [
    "## Pesquisa e scrapa a url da enciclopédia"
   ]
  },
  {
   "cell_type": "code",
   "execution_count": 47,
   "id": "d37af69c",
   "metadata": {},
   "outputs": [],
   "source": [
    "import requests\n",
    "from bs4 import BeautifulSoup\n",
    "from urllib.parse import quote_plus\n",
    "\n",
    "def get_itau_link_and_preview(query: str) -> dict:\n",
    "    base_url = \"https://enciclopedia.itaucultural.org.br\"\n",
    "    search_url = f\"{base_url}/busca?q={quote_plus(query)}\"\n",
    "\n",
    "    try:\n",
    "        headers = {\n",
    "            \"User-Agent\": \"Mozilla/5.0 (Windows NT 10.0; Win64; x64)\"\n",
    "        }\n",
    "        response = requests.get(search_url, headers=headers)\n",
    "\n",
    "        if response.status_code != 200:\n",
    "            return {\"link\": None, \"preview\": f\"Erro ao acessar a Enciclopédia (status {response.status_code}).\"}\n",
    "\n",
    "        soup = BeautifulSoup(response.text, \"html.parser\")\n",
    "        article = soup.find(\"article\", class_=\"row no-gutters\")\n",
    "\n",
    "        if not article:\n",
    "            return {\"link\": None, \"preview\": \"Nenhuma entrada encontrada.\"}\n",
    "\n",
    "        a_tag = article.find(\"a\", href=True)\n",
    "        subtitle_div = article.find(\"div\", class_=\"subtitle\")\n",
    "\n",
    "        if a_tag:\n",
    "            href = a_tag[\"href\"]\n",
    "            full_link = f\"{base_url}{href}\"\n",
    "            preview_text = subtitle_div.text.strip() if subtitle_div else \"Nenhum subtítulo disponível.\"\n",
    "            return {\"link\": full_link, \"preview\": preview_text}\n",
    "\n",
    "        return {\"link\": None, \"preview\": \"Não foi possível encontrar o link principal.\"}\n",
    "\n",
    "    except Exception as e:\n",
    "        return {\"link\": None, \"preview\": f\"Erro na requisição: {str(e)}\"}"
   ]
  },
  {
   "cell_type": "code",
   "execution_count": 48,
   "id": "ac81100b",
   "metadata": {},
   "outputs": [
    {
     "name": "stdout",
     "output_type": "stream",
     "text": [
      "{'link': 'https://enciclopedia.itaucultural.org.br/pessoas/10620-chico-cesar', 'preview': 'Registro fotográfico Marcus Leoni'}\n"
     ]
    }
   ],
   "source": [
    "result = get_itau_link_and_preview(result_key)\n",
    "print(result)"
   ]
  },
  {
   "cell_type": "code",
   "execution_count": 50,
   "id": "c6e70cb8",
   "metadata": {},
   "outputs": [
    {
     "data": {
      "text/plain": [
       "'https://enciclopedia.itaucultural.org.br/pessoas/10620-chico-cesar'"
      ]
     },
     "execution_count": 50,
     "metadata": {},
     "output_type": "execute_result"
    }
   ],
   "source": [
    "scrap_link = result[\"link\"]\n",
    "scrap_link "
   ]
  },
  {
   "cell_type": "markdown",
   "id": "f23e1965",
   "metadata": {},
   "source": [
    "## Retorna o conteúdo da enciclopédia"
   ]
  },
  {
   "cell_type": "code",
   "execution_count": 51,
   "id": "70af595e",
   "metadata": {},
   "outputs": [
    {
     "name": "stdout",
     "output_type": "stream",
     "text": [
      "Title: Chico César\n",
      "URL: https://enciclopedia.itaucultural.org.br/pessoas/10620-chico-cesar\n",
      "ID: https://enciclopedia.itaucultural.org.br/pessoas/10620-chico-cesar\n",
      "Score: None\n",
      "Published Date: 2024-10-25T00:00:00.000Z\n",
      "Author: Instituto Itaú Cultural\n",
      "Image: https://editor-enciclopedia-public-prd.s3.sa-east-1.amazonaws.com/z88jxhyteqwt3ggbtzoccnymspi9\n",
      "Favicon: https://enciclopedia.itaucultural.org.br/packs/media/images/favicon-af3d8fe3b70e783e3e7ab0189d538b4f.ico\n",
      "Extras: None\n",
      "Subpages: None\n",
      "Text: Texto \n",
      " \n",
      " \n",
      " \n",
      " \n",
      " Francisco César Gonçalves (Catolé do Rocha, Paraíba, 1964). Cantor, compositor, violonista e poeta. Influenciado pela tropicália e pela vanguarda paulistana, mistura ritmos ao transitar entre elementos da cultura popular e canções românticas. \n",
      " Na adolescência, participa dos grupos musicais The Snakes, Trio Mirim, Super Som Mirim e Ferradura. Aos 13 anos, apresenta sua primeira composição, o samba “Quando Chega o Carnaval”. Em 1980, transfere-se para a capital João Pessoa, onde se forma em jornalismo pela Universidade Federal da Paraíba. Integra o grupo Jaguaribe Carne, que mistura música, poesia e arte performática. \n",
      " Aos 21 anos, muda-se para São Paulo. Trabalha como jornalista e revisor de textos e, como compositor, apresenta-se em pequenas casas noturnas da cidade e festivais de música do interior. \n",
      " Em 1991, dedica-se à carreira artística e forma a banda Cuscuz Clã. Quatro anos depois, lança o primeiro disco Aos Vivos (1995), acústico de voz e violão gravado ao vivo, com as participações do cantor e compositor Lenine (1959) e do guitarrista Lanny Gordin (1951). No repertório do álbum estão “Mama África” e “À Primeira Vista”, canções que o projetam nacionalmente. \n",
      " A herança tropicalista de Chico César vai além do timbre vocal, que no início da carreira é confundido com o de Caetano Veloso (1942) . As bases do movimento também servem de sustentação para o artista. \n",
      " Na obra de Chico César, reisados, afoxés, cocos e outros elementos da cultura popular brasileira misturam-se ao rock, soul e reggae. Da mesma maneira, as canções românticas, de melodia simples e apelo popular, convivem com músicas experimentais que trazem influência da Vanguarda Paulistana e da poesia concreta. Sua discografia reúne álbuns festivos, como Francisco Forró y Frevo (2008), e outros de tom mais contemplativo, como De uns Tempos para Cá (2005). \n",
      " César celebra a alforria linguística dos manifestos modernistas da Semana de 1922 – “Klaxon/ vá vá vá/ vá filosofia vã” (“Clandestino”) – e defendida pelo tropicalistas: \n",
      " Um Torquato Neto \n",
      "[...] Faz dos estilhaços arte \n",
      "[...] Pois é \n",
      "É de certa forma \n",
      "O que faço \n",
      " (“Nato”, em parceria com Tata Fernandes). Suas letras abusam dos jogos de palavras e das figuras de linguagem. \n",
      " O aboio “Béradêro” brinca com a semântica ao citar “Uma moça cozendo roupa/ Com a Linha do Equador” e “a cigana analfabeta/ Lendo a mão de Paulo Freire\". Em “Mama África”, a bagunça das crianças surge na forma de um neologismo: \"Quando mama sai de casa/ Seus filhos se olodunzam\". “À primeira vista”, outro sucesso, apela para um refrão dadaísta, feito de expressões sem sentido que valem apenas pelos sons. \n",
      " Mesmo de olho naquilo que é regional, Chico César está atento a tudo o que acontece no exterior. \"Qualquer girassol que nascer/ Em qualquer lugar afinal/ Também é o meu girassol\", ele canta em “Girassol”. As canções têm como personagens ora um cantador nordestino, como Cego Aderaldo (1878-1967) , citado em “A prosa Impúrpura do Caicó”, ora uma primeira-ministra paquistanesa: “Não aponte o dedo para Benazir Butho, seu puto” (“Benazir”). O compositor não tem fronteiras: \n",
      " Mama mundi, me ensina \n",
      "pra onde seguir \n",
      "Mãe de gagarin \n",
      "Mãe de mestre vitalino \n",
      "Me nina, mãe mundi (“Mama Mundi”). \n",
      " Em seu mapa racial, a África ganha destaque. \"Eu disse que vim do Senegal/ montado num cavalo-de-pau\" (“Mandela”). O penteado do artista, que lhe confere identidade, serve de mote para a defesa de sua negritude na canção-manifesto “Respeitem Meus Cabelos, Brancos”, cujo título parodia versos do samba “Cabelos Brancos” [ Herivelto Martins (1912-1992) / Marino Pinto (1916-1965)]. Canta Chico César: \"Pois quando um preto fala/ O branco cala ou deixa a sala\". Entre as poucas canções assinadas por outros autores, há a regravação de “Alma Não Tem Cor” [ André Abujamra (1965) ]: \"Percebam que a alma não tem cor/ Ela é colorida/ Ela é multicolor\". \n",
      " Cria o selo Chita Discos em 2003, pelo qual lança trabalhos próprios e de artistas como o instrumentista Swami Jr. (1958) e os grupos Jaguaribe Carne e Quinteto da Paraíba. Em 2005, publica o livro Cantáteis – Cantos Elegíacos de Amozade (2005). \n",
      " Em 2009, assume a presidência da Fundação Cultural de João Pessoa e, dois anos depois, torna-se secretário de cultura da Paraíba. Em 2011, grava em DVD Aos Vivos Agora , reedição de seu primeiro álbum, acrescido de outras canções. No ano seguinte, lança seu segundo livro Rio Sou Francisco . \n",
      " Em meio às possibilidades criativas, os momentos de calmaria estão reservados às canções de amor – “Minha tribo me perdeu/ Quando entrei no templo da paixão” (“Templo”), em parceria com Tata Fernandes e Milton de Biasi. Os versos são simples e diretos: “Quando vi você me apaixonei” (“À Primeira vista”); “É só pensar em você / Que muda o dia” (“Pensar em Você”); “Como esta noite findará/ E o sol então rebrilhará/ Estou pensando em você” (“Onde estará o meu amor”). Dessa forma, equilibra a experimentação e o lirismo. \n",
      " Em 2019, o compositor lança o disco O amor é um ato revolucionário , disco que mistura canções de tom político, como a faixa que dá título ao álbum, influências do folk rock, como em “O homem do cobertor poluído”, e canções de apelo romântico, como “Minha Morena”, na qual Chico César evoca o romance através de versos como: \n",
      " Minha morena \n",
      "Vem me namora \n",
      "Pegue essa onda agora de calor \n",
      "Paixão acena \n",
      "Bem dentro e fora \n",
      "Vem vamos embora pro amor \n",
      " Chico César traz em sua obra elementos de origem nordestina e os mistura com influências do rock, folk e reggae para gerar experimentações musicais, além de transitar entre linguagens, para além da musical, produzindo arte performática e literatura. \n",
      " \n",
      " \n",
      " \n",
      " \n",
      " \n",
      " Obras / \n",
      "Discografia\n",
      " (12) \n",
      " \n",
      " \n",
      " \n",
      " \n",
      " \n",
      " \n",
      " \n",
      " \n",
      " Obras / \n",
      "Espetáculo de Teatro\n",
      " (5) \n",
      " \n",
      " \n",
      " \n",
      " \n",
      " \n",
      " \n",
      " \n",
      " Mídias (1) \n",
      " \n",
      " \n",
      " \n",
      " \n",
      " \n",
      " \n",
      " Fontes de pesquisa (8) \n",
      " \n",
      " \n",
      " \n",
      " \n",
      " \n",
      " BOZZO JÚNIOR, Carlos. Queria vender como SPC', diz Chico César. Folha de S.Paulo , São Paulo, 04 set.1999. \n",
      " FERREIRA, Mauro. Chico César oscila entre o amor e a guerra em disco pautado por fartura musical. 17 set. 2019. G1 . Disponível em: https://g1.globo.com/pop-arte/musica/blog/mauro-ferreira/post/2019/09/17/chico-cesar-oscila-entre-o-amor-e-a-guerra-em-disco-pautado-por-fartura-instrumental.ghtml . \n",
      " GIRON, Luis Antonio. Chico César, um 'sapeador' inspirado. Gazeta Mercantil , São Paulo, 24 mar. 2000. \n",
      " NATALE, Edson. Chico César. In: NESTROVSKI, Arthur (Org.). Música popular brasileira hoje . São Paulo: Publifolha, 2002. \n",
      " OS SERTÕES - O Homem I. São Paulo: Teatro Oficina Uzyna Uzona, [2003]. 1 programa do espetáculo realizado no Teatro Oficina Uzyna Uzona. \n",
      " PALUMBO, Patricia. Vozes do Brasil . Apresentação Patricia Palumbo. São Paulo: DBA, 2002. \n",
      " Programa da Jornada Sesc de Teatro - o teatro musical - 1994 - espetáculo: E o Tao do Mundo Não se Acabou. \n",
      " SOUZA, Tárik de. Um dos melhores discos do compositor. Jornal do Brasil , Rio de Janeiro, 07 nov. 2005. \n",
      " \n",
      " \n",
      " \n",
      " \n",
      " \n",
      " Como citar \n",
      " \n",
      " \n",
      " \n",
      " \n",
      " Para citar a Enciclopédia Itaú Cultural como fonte de sua pesquisa utilize o modelo abaixo: \n",
      " \n",
      " \n",
      "CHICO César.\n",
      "In: ENCICLOPÉDIA Itaú Cultural de Arte e Cultura Brasileira. São Paulo: Itaú Cultural, 2025.\n",
      "Disponível em: http://enciclopedia.itaucultural.org.br/pessoas/10620-chico-cesar . Acesso em: 26 de abril de 2025.\n",
      "Verbete da Enciclopédia.\n",
      " \n",
      "ISBN: 978-85-7979-060-7\n",
      "Highlights: None\n",
      "Highlight Scores: None\n",
      "Summary: None\n",
      "\n",
      "CostDollars: total=0.001\n",
      "  - contents: {'text': 0.001}\n"
     ]
    }
   ],
   "source": [
    "\n",
    "# Verificar se a chave de API foi corretamente configurada\n",
    "exa_key = os.getenv('EXA_API_KEY')\n",
    "\n",
    "# Função para obter os conteúdos das URLs\n",
    "def get_exa_contents(urls: list) -> str:\n",
    "    \"\"\"\n",
    "    Função para buscar conteúdos de uma lista de URLs utilizando a Exa API.\n",
    "    Retorna o conteúdo das URLs.\n",
    "\n",
    "    Parameters:\n",
    "    - urls (list): Lista de URLs para buscar conteúdo.\n",
    "\n",
    "    Returns:\n",
    "    - str: Conteúdo das URLs solicitadas.\n",
    "    \"\"\"\n",
    "    # Obtenha a chave da variável de ambiente\n",
    "    exa_key = os.getenv('EXA_API_KEY')\n",
    "\n",
    "    # Verifique se a chave de API foi carregada corretamente\n",
    "    if exa_key is None:\n",
    "        return \"Erro: A chave de API Exa não foi definida.\"\n",
    "\n",
    "    try:\n",
    "        # Inicialize o cliente Exa com a chave de API\n",
    "        exa = Exa(api_key=exa_key)\n",
    "\n",
    "        # Obter conteúdos das URLs passadas\n",
    "        results = exa.get_contents(urls)\n",
    "\n",
    "        # Retornar os resultados em formato de string\n",
    "        return str(results)\n",
    "\n",
    "    except Exception as e:\n",
    "        # Em caso de erro, retornar mensagem de erro\n",
    "        return f\"Erro ao obter conteúdos: {str(e)}\"\n",
    "\n",
    "# Supondo que scrap_link já tenha o valor do link (como 'https://...')\n",
    "# Correção na chamada da função:\n",
    "result = get_exa_contents([scrap_link])\n",
    "\n",
    "# Exibir o conteúdo retornado\n",
    "print(result)\n"
   ]
  },
  {
   "cell_type": "markdown",
   "id": "33e4722a",
   "metadata": {},
   "source": [
    "## Responde a pergunta a partir do conteúdo "
   ]
  },
  {
   "cell_type": "code",
   "execution_count": 55,
   "id": "b086efc5",
   "metadata": {},
   "outputs": [],
   "source": [
    "def format_large_content(content: str, question: str, max_length: int = 1500):\n",
    "    \"\"\"\n",
    "    Gera uma resposta concisa para a pergunta do usuário com base no conteúdo fornecido.\n",
    "\n",
    "    Parameters:\n",
    "    - content (str): O conteúdo extraído da página da Enciclopédia Itaú Cultural.\n",
    "    - question (str): A pergunta original do usuário.\n",
    "    - max_length (int): Comprimento máximo do conteúdo a ser considerado (para evitar textos muito longos).\n",
    "\n",
    "    Returns:\n",
    "    - str: Uma resposta gerada com base no conteúdo e na pergunta.\n",
    "    \"\"\"\n",
    "    # Se o conteúdo for muito grande, pega apenas os primeiros tokens\n",
    "    if len(content) > max_length:\n",
    "        content = content[:max_length] + \"...\"\n",
    "\n",
    "    prompt = PromptTemplate(\n",
    "        input_variables=[\"content\", \"question\"],\n",
    "        template=\"\"\"\n",
    "        Com base no seguinte conteúdo da Enciclopédia Itaú Cultural:\n",
    "        {content}\n",
    "\n",
    "        Responda à seguinte pergunta do usuário da forma mais concisa e relevante possível:\n",
    "        {question}\n",
    "\n",
    "        Resposta:\n",
    "        \"\"\"\n",
    "    )\n",
    "\n",
    "    chain = LLMChain(llm=llm, prompt=prompt)\n",
    "    response = chain.run({\"content\": content, \"question\": question})\n",
    "    return response.strip()"
   ]
  },
  {
   "cell_type": "code",
   "execution_count": 56,
   "id": "2d775fea",
   "metadata": {},
   "outputs": [],
   "source": [
    "respota_final = format_large_content(result, question)"
   ]
  },
  {
   "cell_type": "code",
   "execution_count": 57,
   "id": "804b3741",
   "metadata": {},
   "outputs": [
    {
     "data": {
      "text/plain": [
       "'O Chico César é um músico, compositor e poeta português de católico, nascido em Catolé do Rocha, Paraíba, em 1964.'"
      ]
     },
     "execution_count": 57,
     "metadata": {},
     "output_type": "execute_result"
    }
   ],
   "source": [
    "respota_final"
   ]
  },
  {
   "cell_type": "code",
   "execution_count": null,
   "id": "1d7fa119",
   "metadata": {},
   "outputs": [],
   "source": []
  }
 ],
 "metadata": {
  "kernelspec": {
   "display_name": "Python 3 (ipykernel)",
   "language": "python",
   "name": "python3"
  },
  "language_info": {
   "codemirror_mode": {
    "name": "ipython",
    "version": 3
   },
   "file_extension": ".py",
   "mimetype": "text/x-python",
   "name": "python",
   "nbconvert_exporter": "python",
   "pygments_lexer": "ipython3",
   "version": "3.9.13"
  },
  "toc": {
   "base_numbering": 1,
   "nav_menu": {},
   "number_sections": true,
   "sideBar": true,
   "skip_h1_title": false,
   "title_cell": "Table of Contents",
   "title_sidebar": "Contents",
   "toc_cell": false,
   "toc_position": {},
   "toc_section_display": true,
   "toc_window_display": false
  }
 },
 "nbformat": 4,
 "nbformat_minor": 5
}
