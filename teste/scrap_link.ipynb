{
 "cells": [
  {
   "cell_type": "code",
   "execution_count": 1,
   "id": "f920ca6a",
   "metadata": {},
   "outputs": [],
   "source": [
    "import requests\n",
    "from bs4 import BeautifulSoup\n",
    "from urllib.parse import quote_plus"
   ]
  },
  {
   "cell_type": "code",
   "execution_count": 4,
   "id": "cbcef8e2",
   "metadata": {},
   "outputs": [],
   "source": [
    "import requests\n",
    "from bs4 import BeautifulSoup\n",
    "from urllib.parse import quote_plus\n",
    "\n",
    "def get_itau_link_and_preview(query: str) -> dict:\n",
    "    base_url = \"https://enciclopedia.itaucultural.org.br\"\n",
    "    search_url = f\"{base_url}/busca?q={quote_plus(query)}\"\n",
    "\n",
    "    print(f\"[DEBUG] URL usada: {search_url}\")\n",
    "\n",
    "    try:\n",
    "        headers = {\n",
    "            \"User-Agent\": \"Mozilla/5.0 (Windows NT 10.0; Win64; x64)\"\n",
    "        }\n",
    "        response = requests.get(search_url, headers=headers)\n",
    "\n",
    "        print(f\"[DEBUG] Status Code: {response.status_code}\")\n",
    "\n",
    "        if response.status_code != 200:\n",
    "            return {\"link\": None, \"preview\": f\"Erro ao acessar a Enciclopédia (status {response.status_code}).\"}\n",
    "\n",
    "        soup = BeautifulSoup(response.text, \"html.parser\")\n",
    "        article = soup.find(\"article\", class_=\"row no-gutters\")\n",
    "\n",
    "        if not article:\n",
    "            return {\"link\": None, \"preview\": \"Nenhuma entrada encontrada.\"}\n",
    "\n",
    "        a_tag = article.find(\"a\", href=True)\n",
    "        subtitle_div = article.find(\"div\", class_=\"subtitle\")\n",
    "\n",
    "        if a_tag:\n",
    "            href = a_tag[\"href\"]\n",
    "            full_link = f\"{base_url}{href}\"\n",
    "            preview_text = subtitle_div.text.strip() if subtitle_div else \"Nenhum subtítulo disponível.\"\n",
    "            return {\"link\": full_link, \"preview\": preview_text}\n",
    "\n",
    "        return {\"link\": None, \"preview\": \"Não foi possível encontrar o link principal.\"}\n",
    "\n",
    "    except Exception as e:\n",
    "        return {\"link\": None, \"preview\": f\"Erro na requisição: {str(e)}\"}\n"
   ]
  },
  {
   "cell_type": "code",
   "execution_count": 8,
   "id": "14dc1893",
   "metadata": {},
   "outputs": [
    {
     "name": "stdout",
     "output_type": "stream",
     "text": [
      "[DEBUG] URL usada: https://enciclopedia.itaucultural.org.br/busca?q=abaporu\n",
      "[DEBUG] Status Code: 200\n",
      "{'link': 'https://enciclopedia.itaucultural.org.br/obras/82334-abaporu', 'preview': 'Reprodução fotográfica Romulo Fialdini'}\n"
     ]
    }
   ],
   "source": [
    "result = get_itau_link_and_preview(\"abaporu\")\n",
    "print(result)"
   ]
  },
  {
   "cell_type": "code",
   "execution_count": null,
   "id": "4e347d5d",
   "metadata": {},
   "outputs": [],
   "source": []
  }
 ],
 "metadata": {
  "kernelspec": {
   "display_name": "Python 3 (ipykernel)",
   "language": "python",
   "name": "python3"
  },
  "language_info": {
   "codemirror_mode": {
    "name": "ipython",
    "version": 3
   },
   "file_extension": ".py",
   "mimetype": "text/x-python",
   "name": "python",
   "nbconvert_exporter": "python",
   "pygments_lexer": "ipython3",
   "version": "3.9.13"
  },
  "toc": {
   "base_numbering": 1,
   "nav_menu": {},
   "number_sections": true,
   "sideBar": true,
   "skip_h1_title": false,
   "title_cell": "Table of Contents",
   "title_sidebar": "Contents",
   "toc_cell": false,
   "toc_position": {},
   "toc_section_display": true,
   "toc_window_display": false
  }
 },
 "nbformat": 4,
 "nbformat_minor": 5
}
